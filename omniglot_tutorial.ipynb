{
 "cells": [
  {
   "cell_type": "markdown",
   "metadata": {},
   "source": [
    "# Meta Learning Tutorial with the Omniglot Dataset"
   ]
  },
  {
   "cell_type": "code",
   "execution_count": 37,
   "metadata": {},
   "outputs": [],
   "source": [
    "import functools\n",
    "\n",
    "import matplotlib.pyplot as plt\n",
    "\n",
    "import jax\n",
    "import jax.numpy as jnp\n",
    "import optax\n",
    "\n",
    "import haiku as hk\n",
    "\n",
    "from tensorflow_probability.substrates import jax as tfp\n",
    "\n",
    "import omniglot_dataset\n",
    "import maml\n",
    "import nets\n",
    "\n",
    "tfd = tfp.distributions"
   ]
  },
  {
   "cell_type": "markdown",
   "metadata": {},
   "source": [
    "## Explore the Omniglot dataset a bit"
   ]
  },
  {
   "cell_type": "markdown",
   "metadata": {},
   "source": [
    "Plotting and exploration based on https://github.com/LecJackS/CS-330-Deep-Multi-Task-and-Meta-Learning/blob/master/hw1/%5BOLD%5DHomework%201%20-%20Step%20by%20step.ipynb"
   ]
  },
  {
   "cell_type": "code",
   "execution_count": 38,
   "metadata": {},
   "outputs": [],
   "source": [
    "num_classes = 2\n",
    "num_samples_per_class = 3\n",
    "meta_batch_size = 32\n",
    "omniglot = omniglot_dataset.Omniglot(meta_batch_size, num_classes, num_samples_per_class)\n",
    "\n",
    "support, query = next(omniglot.train_set)"
   ]
  },
  {
   "cell_type": "code",
   "execution_count": 39,
   "metadata": {},
   "outputs": [],
   "source": [
    "def plot_example(images, labels):\n",
    "    images = images.reshape((meta_batch_size, -1, num_classes) + images.shape[2:])\n",
    "    labels = labels.reshape((meta_batch_size, -1, num_classes) + labels.shape[2:])\n",
    "    plt.figure(figsize=(16, 10))\n",
    "    count = 0\n",
    "    for cl in range(images.shape[2]):\n",
    "        for sa in range(images.shape[1]):\n",
    "            plt.subplot(num_samples_per_class, num_classes, count + 1)\n",
    "            plt.title(\"Class {}\\nExample {}\\nLabel {}\".format(cl, sa, labels[0, sa, cl]))\n",
    "            image = images[0, sa, cl]\n",
    "            plt.imshow(image, cmap='Greys')\n",
    "            plt.axis('off');\n",
    "            count += 1"
   ]
  },
  {
   "cell_type": "markdown",
   "metadata": {},
   "source": [
    "Plot of an example support set"
   ]
  },
  {
   "cell_type": "code",
   "execution_count": 40,
   "metadata": {},
   "outputs": [
    {
     "data": {
      "image/png": "[encoded data removed]",
      "text/plain": [
       "<Figure size 1152x720 with 6 Axes>"
      ]
     },
     "metadata": {
      "needs_background": "light"
     },
     "output_type": "display_data"
    }
   ],
   "source": [
    "plot_example(*support)"
   ]
  },
  {
   "cell_type": "markdown",
   "metadata": {},
   "source": [
    "Plot it's corresponding query set"
   ]
  },
  {
   "cell_type": "code",
   "execution_count": 41,
   "metadata": {
    "scrolled": true
   },
   "outputs": [
    {
     "data": {
      "image/png": "[encoded data removed]",
      "text/plain": [
       "<Figure size 1152x720 with 2 Axes>"
      ]
     },
     "metadata": {
      "needs_background": "light"
     },
     "output_type": "display_data"
    }
   ],
   "source": [
    "plot_example(*query)"
   ]
  },
  {
   "cell_type": "markdown",
   "metadata": {},
   "source": [
    "Seems like the query and support sets labels match so everything is good with the data generator!"
   ]
  },
  {
   "cell_type": "markdown",
   "metadata": {},
   "source": [
    "## Defining a training loop"
   ]
  },
  {
   "cell_type": "code",
   "execution_count": 42,
   "metadata": {},
   "outputs": [],
   "source": [
    "@functools.partial(jax.jit, static_argnums=[0, 1])\n",
    "def update(model, opt, prior_params, opt_state, support, query):\n",
    "    grads = model.update_step(prior_params, support, query)\n",
    "    updates, new_opt_state = opt.update(grads, opt_state)\n",
    "    new_params = optax.apply_updates(prior_params, updates)\n",
    "    return new_params, new_opt_state\n",
    "\n",
    "def predict_eval(model, params, x, y):\n",
    "    dist = model(params, x)\n",
    "    return dist.mode(), dist.log_prob(y)\n",
    "\n",
    "predict_eval = jax.vmap(predict_eval, in_axes=[None, 0, 0, 0])\n",
    "    \n",
    "\n",
    "def train(model, data, lr=0.001, steps=1000):\n",
    "    eval_losses = []\n",
    "    opt = optax.flatten(optax.adam(lr))\n",
    "    opt_state = opt.init(model.prior_params)\n",
    "    for step in range(steps):\n",
    "        model.prior_params, opt_state = update(model, opt, model.prior_params, opt_state, *next(data.train_set))\n",
    "        if step % 100 == 0:\n",
    "            eval_support, eval_query = next(data.eval_set)\n",
    "            posterior_params = model.adaptation_step(model.prior_params, *eval_support)\n",
    "            pred, eval_ = predict_eval(model, posterior_params, *eval_query)\n",
    "            eval_loss = -eval_.mean()\n",
    "            eval_accuracy = (pred == eval_query[1]).mean()\n",
    "            eval_losses.append(eval_loss)\n",
    "            print('Training step: {} -- loss: {:.4f} -- accuracy: {:.4f}'.format(step, eval_loss, eval_accuracy))\n",
    "    return eval_losses\n",
    "            \n"
   ]
  },
  {
   "cell_type": "markdown",
   "metadata": {},
   "source": [
    "## Train MAML"
   ]
  },
  {
   "cell_type": "code",
   "execution_count": 43,
   "metadata": {},
   "outputs": [
    {
     "name": "stdout",
     "output_type": "stream",
     "text": [
      "Training step: 0 -- loss: 0.6507 -- accuracy: 0.6250\n",
      "Training step: 100 -- loss: 0.4537 -- accuracy: 0.7969\n",
      "Training step: 200 -- loss: 0.4207 -- accuracy: 0.8281\n",
      "Training step: 300 -- loss: 0.4598 -- accuracy: 0.8281\n",
      "Training step: 400 -- loss: 0.3912 -- accuracy: 0.8438\n"
     ]
    },
    {
     "data": {
      "text/plain": [
       "[DeviceArray(0.6507425, dtype=float32),\n",
       " DeviceArray(0.4537187, dtype=float32),\n",
       " DeviceArray(0.4206672, dtype=float32),\n",
       " DeviceArray(0.45981544, dtype=float32),\n",
       " DeviceArray(0.3912461, dtype=float32)]"
      ]
     },
     "execution_count": 43,
     "metadata": {},
     "output_type": "execute_result"
    }
   ],
   "source": [
    "def net(x):\n",
    "    x = nets.cnn(x, depth=16, kernels=(4, 4))\n",
    "    x = hk.Flatten()(x)\n",
    "    logits = hk.Linear(num_classes)(x)\n",
    "    return tfd.OneHotCategorical(logits)\n",
    "\n",
    "\n",
    "model = maml.Maml(net, support[0][0], 0.1, adaptation_steps=1)\n",
    "train(model, omniglot, 1e-2, steps=500)"
   ]
  }
 ],
 "metadata": {
  "kernelspec": {
   "display_name": "Python jax-ml",
   "language": "python",
   "name": "jax-ml"
  },
  "language_info": {
   "codemirror_mode": {
    "name": "ipython",
    "version": 3
   },
   "file_extension": ".py",
   "mimetype": "text/x-python",
   "name": "python",
   "nbconvert_exporter": "python",
   "pygments_lexer": "ipython3",
   "version": "3.9.12"
  }
 },
 "nbformat": 4,
 "nbformat_minor": 2
}
