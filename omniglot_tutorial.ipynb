{
 "cells": [
  {
   "cell_type": "markdown",
   "metadata": {},
   "source": [
    "# Meta Learning Tutorial with the Omniglot Dataset"
   ]
  },
  {
   "cell_type": "code",
   "execution_count": 1,
   "metadata": {},
   "outputs": [
    {
     "name": "stderr",
     "output_type": "stream",
     "text": [
      "2022-05-02 16:09:32.401430: W tensorflow/stream_executor/platform/default/dso_loader.cc:64] Could not load dynamic library 'libcudart.so.11.0'; dlerror: libcudart.so.11.0: cannot open shared object file: No such file or directory; LD_LIBRARY_PATH: :/home/yardenas/.mujoco/mujoco210/bin\n"
     ]
    }
   ],
   "source": [
    "import functools\n",
    "\n",
    "import matplotlib.pyplot as plt\n",
    "\n",
    "import jax\n",
    "import jax.numpy as jnp\n",
    "import optax\n",
    "\n",
    "import haiku as hk\n",
    "\n",
    "from tensorflow_probability.substrates import jax as tfp\n",
    "\n",
    "import omniglot_dataset\n",
    "import maml\n",
    "import nets\n",
    "\n",
    "tfd = tfp.distributions"
   ]
  },
  {
   "cell_type": "markdown",
   "metadata": {},
   "source": [
    "## Explore the Omniglot dataset a bit"
   ]
  },
  {
   "cell_type": "markdown",
   "metadata": {},
   "source": [
    "Plotting and exploration based on https://github.com/LecJackS/CS-330-Deep-Multi-Task-and-Meta-Learning/blob/master/hw1/%5BOLD%5DHomework%201%20-%20Step%20by%20step.ipynb"
   ]
  },
  {
   "cell_type": "code",
   "execution_count": 2,
   "metadata": {},
   "outputs": [
    {
     "name": "stderr",
     "output_type": "stream",
     "text": [
      "2022-05-02 16:09:35.728737: W tensorflow/stream_executor/platform/default/dso_loader.cc:64] Could not load dynamic library 'libcuda.so.1'; dlerror: libcuda.so.1: cannot open shared object file: No such file or directory; LD_LIBRARY_PATH: :/home/yardenas/.mujoco/mujoco210/bin\n",
      "2022-05-02 16:09:35.728780: W tensorflow/stream_executor/cuda/cuda_driver.cc:269] failed call to cuInit: UNKNOWN ERROR (303)\n"
     ]
    }
   ],
   "source": [
    "num_classes = 5\n",
    "num_samples_per_class = 1\n",
    "omniglot = omniglot_dataset.Omniglot(32, num_classes, num_samples_per_class)\n",
    "\n",
    "support, query = next(omniglot.train_set)"
   ]
  },
  {
   "cell_type": "code",
   "execution_count": 32,
   "metadata": {},
   "outputs": [],
   "source": [
    "def plot_example(images, labels):\n",
    "    plt.figure(figsize=(16, 10))\n",
    "    count = 0\n",
    "    for cl in range(images.shape[2]):\n",
    "        for sa in range(images.shape[1]):\n",
    "            plt.subplot(num_samples_per_class, num_classes, count + 1)\n",
    "            plt.title(\"Class {}\\nExample {}\\nLabel {}\".format(cl, sa, labels[0, sa, cl]))\n",
    "            image = images[0, sa, cl]\n",
    "            plt.imshow(image, cmap='Greys')\n",
    "            plt.axis('off');\n",
    "            count += 1"
   ]
  },
  {
   "cell_type": "markdown",
   "metadata": {},
   "source": [
    "Plot of an example support set"
   ]
  },
  {
   "cell_type": "code",
   "execution_count": 33,
   "metadata": {},
   "outputs": [
    {
     "data": {
      "image/png": "[encoded data removed]",
      "text/plain": [
       "<Figure size 1152x720 with 5 Axes>"
      ]
     },
     "metadata": {
      "needs_background": "light"
     },
     "output_type": "display_data"
    }
   ],
   "source": [
    "plot_example(*support)"
   ]
  },
  {
   "cell_type": "markdown",
   "metadata": {},
   "source": [
    "Plot it's corresponding query set"
   ]
  },
  {
   "cell_type": "code",
   "execution_count": 34,
   "metadata": {
    "scrolled": true
   },
   "outputs": [
    {
     "data": {
      "image/png": "[encoded data removed]",
      "text/plain": [
       "<Figure size 1152x720 with 5 Axes>"
      ]
     },
     "metadata": {
      "needs_background": "light"
     },
     "output_type": "display_data"
    }
   ],
   "source": [
    "plot_example(*query)"
   ]
  },
  {
   "cell_type": "markdown",
   "metadata": {},
   "source": [
    "Seems like the query and support sets labels match so everything is good with the data generator!"
   ]
  },
  {
   "cell_type": "markdown",
   "metadata": {},
   "source": [
    "## Defining a training loop"
   ]
  },
  {
   "cell_type": "code",
   "execution_count": 28,
   "metadata": {},
   "outputs": [],
   "source": [
    "@functools.partial(jax.jit, static_argnums=[0, 1])\n",
    "def update(model, opt, prior_params, opt_state, support, query):\n",
    "    grads = model.update_step(prior_params, support, query)\n",
    "    updates, new_opt_state = opt.update(grads, opt_state)\n",
    "    new_params = optax.apply_updates(prior_params, updates)\n",
    "    return new_params, new_opt_state\n",
    "    \n",
    "\n",
    "def train(model, data, lr=0.001, steps=1000):\n",
    "    eval_losses = []\n",
    "    opt = optax.flatten(optax.adam(lr))\n",
    "    opt_state = opt.init(model.prior_params)\n",
    "    for step in range(steps):\n",
    "        model.prior_params, opt_state = update(model, opt, model.prior_params, opt_state, *next(data.train_set))\n",
    "        if step % 100 == 0:\n",
    "            eval_support, eval_query = next(data.eval_set)\n",
    "            posterior_params = model.adaptation_step(model.prior_params, *eval_support)\n",
    "            pred = model(posterior_params, eval_query[0])\n",
    "            eval_loss = -pred.log_prob(eval_query[1]).mean()\n",
    "            eval_accuracy = (pred.mode() == eval_query[1]).mean()\n",
    "            eval_losses.append(eval_loss)\n",
    "            print('Training step: {} -- loss: {} -- accuracy: {}'.format(step, eval_loss, eval_accuracy))\n",
    "    return eval_losses\n",
    "            \n"
   ]
  },
  {
   "cell_type": "markdown",
   "metadata": {},
   "source": [
    "## Train MAML"
   ]
  },
  {
   "cell_type": "code",
   "execution_count": 1,
   "metadata": {},
   "outputs": [
    {
     "ename": "NameError",
     "evalue": "name 'maml' is not defined",
     "output_type": "error",
     "traceback": [
      "\u001b[0;31m---------------------------------------------------------------------------\u001b[0m",
      "\u001b[0;31mNameError\u001b[0m                                 Traceback (most recent call last)",
      "Input \u001b[0;32mIn [1]\u001b[0m, in \u001b[0;36m<cell line: 11>\u001b[0;34m()\u001b[0m\n\u001b[1;32m      8\u001b[0m     logits \u001b[38;5;241m=\u001b[39m hk\u001b[38;5;241m.\u001b[39mBatchApply(forward, \u001b[38;5;241m3\u001b[39m)(x)\n\u001b[1;32m      9\u001b[0m     \u001b[38;5;28;01mreturn\u001b[39;00m tfd\u001b[38;5;241m.\u001b[39mOneHotCategorical(logits)\n\u001b[0;32m---> 11\u001b[0m model \u001b[38;5;241m=\u001b[39m \u001b[43mmaml\u001b[49m\u001b[38;5;241m.\u001b[39mMaml(net, support[\u001b[38;5;241m0\u001b[39m], \u001b[38;5;241m0.1\u001b[39m, adaptation_steps\u001b[38;5;241m=\u001b[39m\u001b[38;5;241m5\u001b[39m)\n\u001b[1;32m     14\u001b[0m \u001b[38;5;28;01mfor\u001b[39;00m lr \u001b[38;5;129;01min\u001b[39;00m [\u001b[38;5;241m1e-3\u001b[39m, \u001b[38;5;241m1e-2\u001b[39m, \u001b[38;5;241m1e-4\u001b[39m]:\n\u001b[1;32m     15\u001b[0m     train(model, omniglot, lr, steps\u001b[38;5;241m=\u001b[39m\u001b[38;5;241m800\u001b[39m)\n",
      "\u001b[0;31mNameError\u001b[0m: name 'maml' is not defined"
     ]
    }
   ],
   "source": [
    "def net(x):\n",
    "\n",
    "    def forward(x):\n",
    "        x = nets.cnn(x, depth=16, kernels=(4, 4))\n",
    "        x = hk.Flatten()(x)\n",
    "        logits = hk.Linear(num_classes)(x)\n",
    "        return logits\n",
    "    logits = hk.BatchApply(forward, 3)(x)\n",
    "    return tfd.OneHotCategorical(logits)\n",
    "\n",
    "model = maml.Maml(net, support[0], 0.1, adaptation_steps=5)\n",
    "\n",
    "\n",
    "for lr in [1e-3, 1e-2, 1e-4]:\n",
    "    train(model, omniglot, lr, steps=800)"
   ]
  }
 ],
 "metadata": {
  "kernelspec": {
   "display_name": "Python jax-ml",
   "language": "python",
   "name": "jax-ml"
  },
  "language_info": {
   "codemirror_mode": {
    "name": "ipython",
    "version": 3
   },
   "file_extension": ".py",
   "mimetype": "text/x-python",
   "name": "python",
   "nbconvert_exporter": "python",
   "pygments_lexer": "ipython3",
   "version": "3.9.12"
  }
 },
 "nbformat": 4,
 "nbformat_minor": 2
}
